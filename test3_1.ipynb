{
  "cells": [
    {
      "cell_type": "markdown",
      "metadata": {
        "id": "view-in-github",
        "colab_type": "text"
      },
      "source": [
        "<a href=\"https://colab.research.google.com/github/YouLiang-Fu/-/blob/main/test3_1.ipynb\" target=\"_parent\"><img src=\"https://colab.research.google.com/assets/colab-badge.svg\" alt=\"Open In Colab\"/></a>"
      ]
    },
    {
      "cell_type": "markdown",
      "metadata": {
        "id": "ZwXwgOekXBkq"
      },
      "source": [
        "# 线性回归"
      ]
    },
    {
      "cell_type": "markdown",
      "metadata": {
        "id": "QMMzxU-UXBkx"
      },
      "source": [
        "### 温度与花朵数量关系例子"
      ]
    },
    {
      "cell_type": "code",
      "execution_count": 1,
      "metadata": {
        "collapsed": true,
        "colab": {
          "base_uri": "https://localhost:8080/",
          "height": 283
        },
        "id": "Op2k9k5qXBlM",
        "outputId": "fd68abd0-2616-41a4-c09f-9003749b6187"
      },
      "outputs": [
        {
          "output_type": "execute_result",
          "data": {
            "text/plain": [
              "<matplotlib.collections.PathCollection at 0x7f5dd46209a0>"
            ]
          },
          "metadata": {},
          "execution_count": 1
        },
        {
          "output_type": "display_data",
          "data": {
            "text/plain": [
              "<Figure size 432x288 with 1 Axes>"
            ],
            "image/png": "[encoded data removed]"
          },
          "metadata": {
            "needs_background": "light"
          }
        }
      ],
      "source": [
        "temperatures = [15, 20, 25, 30, 35,40]\n",
        "flowers = [136, 140, 155, 160, 157, 175]\n",
        "\n",
        "import numpy as np\n",
        "\n",
        "X= temperatures\n",
        "Y= flowers\n",
        "\n",
        "import matplotlib.pyplot as plt\n",
        "plt.scatter(X,Y,c='g')"
      ]
    },
    {
      "cell_type": "code",
      "source": [
        "import numpy as np\n",
        "X1=np.array(X).reshape(-1,1)\n",
        "Y1=np.array(Y).reshape(-1,1)\n",
        "\n",
        "from sklearn.linear_model import LinearRegression\n",
        "model = LinearRegression()\n",
        "model.fit(X1,Y1)\n",
        "model.coef_\n",
        "model.intercept_\n",
        "print(model.coef_)\n",
        "print(model.intercept_)"
      ],
      "metadata": {
        "colab": {
          "base_uri": "https://localhost:8080/"
        },
        "id": "lJPhdCRZe-B9",
        "outputId": "b59e26bf-4e55-48a5-da59-f4a3df3dc764"
      },
      "execution_count": 2,
      "outputs": [
        {
          "output_type": "stream",
          "name": "stdout",
          "text": [
            "[[1.43428571]]\n",
            "[114.39047619]\n"
          ]
        }
      ]
    },
    {
      "cell_type": "code",
      "source": [
        "import matplotlib.pyplot as plt\n",
        "\n",
        "Y2= model.predict(X1)\n",
        "plt.scatter(X1,Y1,c='g')\n",
        "plt.plot(X1,Y2,c= 'b')\n",
        "print(X1)\n",
        "print(Y2)"
      ],
      "metadata": {
        "colab": {
          "base_uri": "https://localhost:8080/",
          "height": 481
        },
        "id": "lcvSrweArAl1",
        "outputId": "9bc0e643-d9b3-4b8d-e1cc-1e9e9212c73e"
      },
      "execution_count": 5,
      "outputs": [
        {
          "output_type": "stream",
          "name": "stdout",
          "text": [
            "[[15]\n",
            " [20]\n",
            " [25]\n",
            " [30]\n",
            " [35]\n",
            " [40]]\n",
            "[[135.9047619 ]\n",
            " [143.07619048]\n",
            " [150.24761905]\n",
            " [157.41904762]\n",
            " [164.59047619]\n",
            " [171.76190476]]\n"
          ]
        },
        {
          "output_type": "display_data",
          "data": {
            "text/plain": [
              "<Figure size 432x288 with 1 Axes>"
            ],
            "image/png": "[encoded data removed]"
          },
          "metadata": {
            "needs_background": "light"
          }
        }
      ]
    },
    {
      "cell_type": "code",
      "source": [],
      "metadata": {
        "id": "Nj6pcKC8r8ek"
      },
      "execution_count": null,
      "outputs": []
    },
    {
      "cell_type": "code",
      "source": [
        "T = [18, 22, 33]\n",
        "T1=np.array(T).reshape(-1,1)\n",
        "\n",
        "model.predict(T1)"
      ],
      "metadata": {
        "colab": {
          "base_uri": "https://localhost:8080/"
        },
        "id": "DKb3yUbIlcbS",
        "outputId": "c6648b82-e8e7-458e-f497-4fd68969a89e"
      },
      "execution_count": 6,
      "outputs": [
        {
          "output_type": "execute_result",
          "data": {
            "text/plain": [
              "array([[140.20761905],\n",
              "       [145.9447619 ],\n",
              "       [161.72190476]])"
            ]
          },
          "metadata": {},
          "execution_count": 6
        }
      ]
    }
  ],
  "metadata": {
    "kernelspec": {
      "display_name": "Python 3",
      "language": "python",
      "name": "python3"
    },
    "language_info": {
      "codemirror_mode": {
        "name": "ipython",
        "version": 3
      },
      "file_extension": ".py",
      "mimetype": "text/x-python",
      "name": "python",
      "nbconvert_exporter": "python",
      "pygments_lexer": "ipython3",
      "version": "3.7.3"
    },
    "colab": {
      "provenance": [],
      "include_colab_link": true
    }
  },
  "nbformat": 4,
  "nbformat_minor": 0
}
