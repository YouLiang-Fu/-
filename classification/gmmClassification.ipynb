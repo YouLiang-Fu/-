import numpy as np
samples = np.loadtxt("kmeansSamples.txt")

from sklearn.mixture import GaussianMixture
X = samples
gm = GaussianMixture(n_components=3, random_state=0).fit(X)
y_pred = gm.predict(X)

import matplotlib.pyplot as plt
plt.scatter(X[:,0],X[:,1],c=y_pred)
plt.show()

from sklearn.metrics import silhouette_score
sc_value=silhouette_score(X,y_pred)
print(sc_value)
print(gm.means_)
